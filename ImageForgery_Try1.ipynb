{
  "nbformat": 4,
  "nbformat_minor": 0,
  "metadata": {
    "colab": {
      "name": "ImageForgery_Try1.ipynb",
      "provenance": [],
      "authorship_tag": "ABX9TyNIkh/0kPoCwc0VICzHcfNN",
      "include_colab_link": true
    },
    "kernelspec": {
      "name": "python3",
      "display_name": "Python 3"
    },
    "language_info": {
      "name": "python"
    }
  },
  "cells": [
    {
      "cell_type": "markdown",
      "metadata": {
        "id": "view-in-github",
        "colab_type": "text"
      },
      "source": [
        "<a href=\"https://colab.research.google.com/github/modidiviyansh/Clone-Netlfix/blob/master/ImageForgery_Try1.ipynb\" target=\"_parent\"><img src=\"https://colab.research.google.com/assets/colab-badge.svg\" alt=\"Open In Colab\"/></a>"
      ]
    },
    {
      "cell_type": "code",
      "execution_count": 1,
      "metadata": {
        "id": "Y5s_swHdlIMe"
      },
      "outputs": [],
      "source": [
        "import sklearn as sk\n",
        "import numpy as np"
      ]
    },
    {
      "cell_type": "code",
      "source": [
        ""
      ],
      "metadata": {
        "id": "BgIwUNn9mzUN"
      },
      "execution_count": null,
      "outputs": []
    }
  ]
}